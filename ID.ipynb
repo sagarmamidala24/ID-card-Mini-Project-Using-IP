{
 "cells": [
  {
   "cell_type": "code",
   "execution_count": 1,
   "id": "a42861b6",
   "metadata": {},
   "outputs": [],
   "source": [
    "import cv2\n",
    "import numpy as np"
   ]
  },
  {
   "cell_type": "code",
   "execution_count": 7,
   "id": "a1f70af6",
   "metadata": {},
   "outputs": [
    {
     "data": {
      "text/plain": [
       "True"
      ]
     },
     "execution_count": 7,
     "metadata": {},
     "output_type": "execute_result"
    }
   ],
   "source": [
    "# Read a blank template or base image\n",
    "card  = cv2.imread('id_template.jpg') # or create a  blank image with np.ones\n",
    "\n",
    "# check\n",
    "if card is None:\n",
    "    card = 255*np.ones(shape=[500,800,3], dtype=np.uint8)\n",
    "    \n",
    "# Add personal image\n",
    "person = cv2.imread('PassportPhoto.jpg')   # Load user's photo\n",
    "person = cv2.resize(person, (150,180))     # Resize it to fit on ID,  width=150, height=180\n",
    "card[50:230, 50:200] =person                # Paste onto the card, Start point (top-left corner),   # End point (bottom-right corner)\n",
    "\n",
    "# Draw a rectangle border for ID area\n",
    "cv2.rectangle(card, (50,50),(210,240), (0,0,0),2) #(50,50) to (210,240) — matches where the photo was placed.\n",
    "\n",
    "# Add Text: Name, ID, Role\n",
    "cv2.putText(card, 'Name : Mamidala Sagar', (250,80), cv2.FONT_HERSHEY_SIMPLEX,0.9,(0,0,0),2)\n",
    "cv2.putText(card, 'ID : 3262024', (250,130), cv2.FONT_HERSHEY_SIMPLEX,0.9,(0,0,0),2)\n",
    "cv2.putText(card,'Role: Student', (250,180), cv2.FONT_HERSHEY_SIMPLEX,0.9,(0,0,0),2)\n",
    "\n",
    "# Optional: Add organization name and footer line\n",
    "cv2.putText(card, 'University of Mumbai', (120,30), cv2.FONT_HERSHEY_SIMPLEX,0.9,(255,0,0),2)\n",
    "cv2.line(card,(0,250),(800,250), (100,100,100),2)\n",
    "\n",
    "# Display the result\n",
    "cv2.imshow(\"ID Card\", card)\n",
    "cv2.waitKey(0)\n",
    "cv2.destroyAllWindows()\n",
    "\n",
    "# Save output\n",
    "cv2.imwrite(\"student_id_card.jpg\",card)"
   ]
  },
  {
   "cell_type": "markdown",
   "id": "db1bf014",
   "metadata": {},
   "source": [
    "<table border=\"1\" cellpadding=\"10\" cellspacing=\"0\">\n",
    "  <thead>\n",
    "    <tr>\n",
    "      <th>Element</th>\n",
    "      <th>Old Value</th>\n",
    "      <th>New Value (for 200x180 photo)</th>\n",
    "    </tr>\n",
    "  </thead>\n",
    "  <tbody>\n",
    "    <tr>\n",
    "      <td>Resize</td>\n",
    "      <td>(150,180)</td>\n",
    "      <td>(200,180)</td>\n",
    "    </tr>\n",
    "    <tr>\n",
    "      <td>Paste Range</td>\n",
    "      <td>[50:230, 50:200]</td>\n",
    "      <td>[50:230, 50:250]</td>\n",
    "    </tr>\n",
    "    <tr>\n",
    "      <td>Rectangle Box</td>\n",
    "      <td>(50,50),(210,240)</td>\n",
    "      <td>(50,50),(250,240)</td>\n",
    "    </tr>\n",
    "  </tbody>\n",
    "</table>\n",
    "\n",
    "\n",
    "📌 What does (250, 80) mean in Text bar?\n",
    "- It's the starting coordinate of the text — specifically:\n",
    "  - 250 = X → how far from the left the text starts\n",
    "  - 80 = Y → how far from the top the baseline of the text sits\n",
    "\n",
    "- NOTE: It’s not the top-left corner of the text, but the baseline (the line the text \"sits on\")."
   ]
  },
  {
   "cell_type": "code",
   "execution_count": null,
   "id": "4b38701c",
   "metadata": {},
   "outputs": [],
   "source": []
  },
  {
   "cell_type": "code",
   "execution_count": null,
   "id": "149b61ff",
   "metadata": {},
   "outputs": [],
   "source": []
  }
 ],
 "metadata": {
  "kernelspec": {
   "display_name": "Python (tf_env)",
   "language": "python",
   "name": "tf_env"
  },
  "language_info": {
   "codemirror_mode": {
    "name": "ipython",
    "version": 3
   },
   "file_extension": ".py",
   "mimetype": "text/x-python",
   "name": "python",
   "nbconvert_exporter": "python",
   "pygments_lexer": "ipython3",
   "version": "3.12.1"
  }
 },
 "nbformat": 4,
 "nbformat_minor": 5
}
